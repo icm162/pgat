{
 "cells": [
  {
   "cell_type": "code",
   "execution_count": 1,
   "id": "f138e87f",
   "metadata": {},
   "outputs": [],
   "source": [
    "import pip_system_certs.wrapt_requests"
   ]
  },
  {
   "cell_type": "code",
   "execution_count": 2,
   "id": "b6b7734b",
   "metadata": {},
   "outputs": [],
   "source": [
    "import github"
   ]
  },
  {
   "cell_type": "code",
   "execution_count": 3,
   "id": "b3a8ab4a",
   "metadata": {},
   "outputs": [],
   "source": [
    "with open(r\"../github_token\", \"r\") as reader:\n",
    "    classic_access_token = reader.readline()"
   ]
  },
  {
   "cell_type": "code",
   "execution_count": 4,
   "id": "ecd0b2cc",
   "metadata": {},
   "outputs": [],
   "source": [
    "auth = github.Auth.Token(classic_access_token)"
   ]
  },
  {
   "cell_type": "code",
   "execution_count": 5,
   "id": "ef0a101a",
   "metadata": {},
   "outputs": [
    {
     "name": "stdout",
     "output_type": "stream",
     "text": [
      "None\n",
      "NamedUser(login=\"icm162\")\n",
      "NamedUser(login=\"starrysky-ashin\")\n",
      "NamedUser(login=\"starrysky-ashin\")\n"
     ]
    }
   ],
   "source": [
    "with github.Github(auth=auth) as g:\n",
    "    repo = g.get_repo(\"srcn-ivl/MRC-Solutions\")\n",
    "    for cm in repo.get_commits():\n",
    "        print(cm.author)"
   ]
  }
 ],
 "metadata": {
  "kernelspec": {
   "display_name": "Python 3",
   "language": "python",
   "name": "python3"
  },
  "language_info": {
   "codemirror_mode": {
    "name": "ipython",
    "version": 3
   },
   "file_extension": ".py",
   "mimetype": "text/x-python",
   "name": "python",
   "nbconvert_exporter": "python",
   "pygments_lexer": "ipython3",
   "version": "3.11.9"
  }
 },
 "nbformat": 4,
 "nbformat_minor": 5
}

{
 "cells": [
  {
   "cell_type": "code",
   "execution_count": 2,
   "id": "f138e87f",
   "metadata": {},
   "outputs": [],
   "source": [
    "import pip_system_certs.wrapt_requests"
   ]
  },
  {
   "cell_type": "code",
   "execution_count": 3,
   "id": "b6b7734b",
   "metadata": {},
   "outputs": [],
   "source": [
    "import github\n",
    "\n",
    "from github.PullRequest import PullRequest"
   ]
  },
  {
   "cell_type": "code",
   "execution_count": 4,
   "id": "b3a8ab4a",
   "metadata": {},
   "outputs": [],
   "source": [
    "with open(r\"../github_token\", \"r\") as reader:\n",
    "    classic_access_token = reader.readline()"
   ]
  },
  {
   "cell_type": "code",
   "execution_count": 5,
   "id": "ecd0b2cc",
   "metadata": {},
   "outputs": [],
   "source": [
    "auth = github.Auth.Token(classic_access_token)"
   ]
  },
  {
   "cell_type": "code",
   "execution_count": 19,
   "id": "ef0a101a",
   "metadata": {},
   "outputs": [
    {
     "name": "stdout",
     "output_type": "stream",
     "text": [
      "https://github.com/browser-use/browser-use/pull/980.diff \n",
      "\n",
      "\n",
      "Trying to click on missing element after a load timeout\n",
      "sometimes a click happens but the page fails to load in time, in this line,\n",
      "```\n",
      "await page.wait_for_load_state()\n",
      "```\n",
      "\n",
      "Then the except will try to click on a non-existing element and fail anyways. This change makes sure that we retry the click only when the click fails.\n",
      "\n",
      "It will not save all use-cases, if the element was actually clicked and the page has changed the `eval` will still fail with\n",
      "```\n",
      "Error('Page.evaluate: Execution context was destroyed, most likely because of a navigation')\n",
      "```\n",
      "\n",
      "Another option would be to add some configurations to the timeout and not have it static 1500ms\n",
      "----------------------------------------------------------------------------------------------------\n",
      "[![CLA assistant check](https://cla-assistant.io/pull/badge/signed)](https://cla-assistant.io/browser-use/browser-use?pullRequest=980) <br/>All committers have signed the CLA.\n",
      "----------------------------------------------------------------------------------------------------\n",
      "This is a serious bug in my end as well, would love to see it fixed\n",
      "----------------------------------------------------------------------------------------------------\n",
      "@mkuts12 we're ready to review/merge but we need the CLA signed please 🙏 \n",
      "----------------------------------------------------------------------------------------------------\n",
      "Signed.\n",
      "Sorry, I've signed it in another PR so I didn't know I need to sign it again\n",
      "----------------------------------------------------------------------------------------------------\n",
      "👋 This PR has been automatically marked as stale because it hasn't had activity for 45 days.\n",
      "\n",
      "**To keep this PR open:**\n",
      "- Rebase against the latest main branch\n",
      "- Address any review feedback or merge conflicts\n",
      "- Add a comment explaining the current status\n",
      "- Add the `work-in-progress` label if you're still actively working on this\n",
      "\n",
      "**This will be automatically closed in 14 days** if no further activity occurs.\n",
      "\n",
      "Thanks for contributing to browser-use! 🤖\n"
     ]
    }
   ],
   "source": [
    "with github.Github(auth=auth) as g:\n",
    "    repo = g.get_repo(\"browser-use/browser-use\")\n",
    "    ## #845 是一个对 browser-use 添加右键点击功能的 PR \n",
    "    filtered:PullRequest = [pr for pr in repo.get_pulls() if pr.number == 980][0]\n",
    "    diff_url = filtered.diff_url\n",
    "    print(diff_url, \"\\n\\n\")\n",
    "    print(filtered.title)\n",
    "    print(filtered.body)\n",
    "    for com in filtered.get_issue_comments():\n",
    "        print(\"-\"*100)\n",
    "        print(com.body)\n",
    "    # for file in filtered.get_files():\n",
    "    #     print(file.blob_url)\n",
    "    #     print(file.filename)"
   ]
  }
 ],
 "metadata": {
  "kernelspec": {
   "display_name": "Python 3",
   "language": "python",
   "name": "python3"
  },
  "language_info": {
   "codemirror_mode": {
    "name": "ipython",
    "version": 3
   },
   "file_extension": ".py",
   "mimetype": "text/x-python",
   "name": "python",
   "nbconvert_exporter": "python",
   "pygments_lexer": "ipython3",
   "version": "3.11.9"
  }
 },
 "nbformat": 4,
 "nbformat_minor": 5
}

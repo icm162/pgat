{
 "cells": [
  {
   "cell_type": "code",
   "execution_count": 1,
   "id": "f138e87f",
   "metadata": {},
   "outputs": [],
   "source": [
    "import pip_system_certs.wrapt_requests"
   ]
  },
  {
   "cell_type": "code",
   "execution_count": 2,
   "id": "b6b7734b",
   "metadata": {},
   "outputs": [],
   "source": [
    "import github\n",
    "\n",
    "from github.PullRequest import PullRequest"
   ]
  },
  {
   "cell_type": "code",
   "execution_count": 3,
   "id": "b3a8ab4a",
   "metadata": {},
   "outputs": [],
   "source": [
    "with open(r\"../github_token\", \"r\") as reader:\n",
    "    classic_access_token = reader.readline()"
   ]
  },
  {
   "cell_type": "code",
   "execution_count": 4,
   "id": "ecd0b2cc",
   "metadata": {},
   "outputs": [],
   "source": [
    "auth = github.Auth.Token(classic_access_token)"
   ]
  },
  {
   "cell_type": "code",
   "execution_count": null,
   "id": "ef0a101a",
   "metadata": {},
   "outputs": [],
   "source": [
    "with github.Github(auth=auth) as g:\n",
    "    repo = g.get_repo(\"browser-use/browser-use\")\n",
    "    ## #845 是一个对 browser-use 添加右键点击功能的 PR \n",
    "    filtered:PullRequest = [pr for pr in repo.get_pulls() if pr.number == 980][0]\n",
    "    diff_url = filtered.diff_url\n",
    "    print(diff_url, \"\\n\\n\")\n",
    "    print(filtered.title)\n",
    "    print(filtered.body)\n",
    "    for com in filtered.get_issue_comments():\n",
    "        print(\"-\"*100)\n",
    "        print(com.body)\n",
    "    # for file in filtered.get_files():\n",
    "    #     print(file.blob_url)\n",
    "    #     print(file.filename)"
   ]
  },
  {
   "cell_type": "code",
   "execution_count": 11,
   "id": "d819797c",
   "metadata": {},
   "outputs": [],
   "source": [
    "from github.GithubObject import NotSet\n",
    "\n",
    "with github.Github(auth=auth) as g:\n",
    "    repo = g.get_repo(\"icm162/pgat\")\n",
    "    pr = repo.get_pull(1)\n",
    "    last_commit = pr.get_commits()[pr.commits - 1]\n",
    "    # pr.create_comment(\"this is a comment from api\", last_commit, \"file.txt\", 0)\n",
    "    pr.create_issue_comment(\"this is a comment from api\")"
   ]
  }
 ],
 "metadata": {
  "kernelspec": {
   "display_name": "Python 3",
   "language": "python",
   "name": "python3"
  },
  "language_info": {
   "codemirror_mode": {
    "name": "ipython",
    "version": 3
   },
   "file_extension": ".py",
   "mimetype": "text/x-python",
   "name": "python",
   "nbconvert_exporter": "python",
   "pygments_lexer": "ipython3",
   "version": "3.11.9"
  }
 },
 "nbformat": 4,
 "nbformat_minor": 5
}

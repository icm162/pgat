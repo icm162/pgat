{
 "cells": [
  {
   "cell_type": "markdown",
   "id": "53391590",
   "metadata": {},
   "source": [
    "SSL 证书导入"
   ]
  },
  {
   "cell_type": "code",
   "execution_count": 1,
   "id": "459e844a",
   "metadata": {},
   "outputs": [],
   "source": [
    "import pip_system_certs.wrapt_requests"
   ]
  },
  {
   "cell_type": "markdown",
   "id": "a2f50c1c",
   "metadata": {},
   "source": [
    "建立 LLM 会话"
   ]
  },
  {
   "cell_type": "code",
   "execution_count": 2,
   "id": "939ae7ef",
   "metadata": {},
   "outputs": [],
   "source": [
    "from google import genai\n",
    "\n",
    "with open(r\".\\api_key\", \"r\", encoding=\"utf8\") as reader: \n",
    "    api_key = reader.readline()\n",
    "client = genai.Client(api_key=api_key)\n",
    "\n",
    "model_name = \"gemini-2.5-flash\""
   ]
  },
  {
   "cell_type": "markdown",
   "id": "c38882f2",
   "metadata": {},
   "source": [
    "认证 github"
   ]
  },
  {
   "cell_type": "code",
   "execution_count": 3,
   "id": "b4a3d2f6",
   "metadata": {},
   "outputs": [],
   "source": [
    "from github.Repository import Repository, NotSet\n",
    "from github.PullRequest import PullRequest\n",
    "\n",
    "import github\n",
    "\n",
    "with open(r\".\\github_token\", \"r\", encoding=\"utf8\") as reader:\n",
    "    access_token = reader.readline()\n",
    "\n",
    "auth = github.Auth.Token(access_token)"
   ]
  },
  {
   "cell_type": "markdown",
   "id": "1b6b4584",
   "metadata": {},
   "source": [
    "筛选 PR"
   ]
  },
  {
   "cell_type": "code",
   "execution_count": 4,
   "id": "3f3efaa3",
   "metadata": {},
   "outputs": [],
   "source": [
    "from typing import Literal, List\n",
    "\n",
    "def filtre(\n",
    "        repo:Repository,\n",
    "        pr_state:Literal[\"open\", \"close\", \"all\"]=NotSet, # pr 状态\n",
    "        sort:Literal[\"created\", \"updated\", \"pushed\", \"popularity\"]=NotSet, # 结果排序方式\n",
    "        direction:Literal[\"asc\", \"desc\"]=NotSet, # 结果顺序\n",
    "        base:str=NotSet, # 目标分支\n",
    "        head:str=NotSet, # 来源分支/来源用户\n",
    "        prid:int=None, # 指定 pr 编号\n",
    "        author:str=None, # 指定 pr 发起人\n",
    "        day_back:int=None, # 回溯指定天数内\n",
    "    ) -> List[PullRequest]:\n",
    "    results = repo.get_pulls(pr_state, sort, direction, base, head)\n",
    "    if prid: results = [pr for pr in results if pr.number == prid]\n",
    "    if author: results = [pr for pr in results if pr.user.login == author]\n",
    "    if day_back:\n",
    "        # datetime 范围内\n",
    "        from datetime import datetime, timedelta, timezone\n",
    "        now = datetime.now().replace(tzinfo=timezone.utc)\n",
    "        start_from = now - timedelta(days=day_back) \n",
    "        results = [pr for pr in results if pr.created_at >= start_from]\n",
    "    return results"
   ]
  },
  {
   "cell_type": "code",
   "execution_count": null,
   "id": "751c978f",
   "metadata": {},
   "outputs": [
    {
     "ename": "ValueError",
     "evalue": "No matching PR found",
     "output_type": "error",
     "traceback": [
      "\u001b[31m---------------------------------------------------------------------------\u001b[39m",
      "\u001b[31mValueError\u001b[39m                                Traceback (most recent call last)",
      "\u001b[36mCell\u001b[39m\u001b[36m \u001b[39m\u001b[32mIn[9]\u001b[39m\u001b[32m, line 7\u001b[39m\n\u001b[32m      5\u001b[39m repo = g.get_repo(repository)\n\u001b[32m      6\u001b[39m filtered = filtre(repo, \u001b[33m\"\u001b[39m\u001b[33mopen\u001b[39m\u001b[33m\"\u001b[39m, author=\u001b[33m\"\u001b[39m\u001b[33mMagMueller\u001b[39m\u001b[33m\"\u001b[39m, day_back=\u001b[32m1\u001b[39m)\n\u001b[32m----> \u001b[39m\u001b[32m7\u001b[39m \u001b[38;5;28;01mif\u001b[39;00m \u001b[38;5;129;01mnot\u001b[39;00m filtered: \u001b[38;5;28;01mraise\u001b[39;00m \u001b[38;5;167;01mValueError\u001b[39;00m(\u001b[33m\"\u001b[39m\u001b[33mNo matching PR found\u001b[39m\u001b[33m\"\u001b[39m)\n\u001b[32m      8\u001b[39m pr = filtered[\u001b[32m0\u001b[39m]; url = pr.diff_url\n",
      "\u001b[31mValueError\u001b[39m: No matching PR found"
     ]
    }
   ],
   "source": [
    "## https://github.com/{browser-use/browser-use}/pull/xxx.diff\n",
    "repository = \"browser-use/browser-use\"\n",
    "\n",
    "with github.Github(auth=auth) as g:\n",
    "    repo = g.get_repo(repository)\n",
    "    filtered = filtre(repo, \"open\", author=\"MagMueller\", day_back=10)\n",
    "    if not filtered: raise ValueError(\"No matching PR found\")\n",
    "    pr = filtered[0]; url = pr.diff_url"
   ]
  },
  {
   "cell_type": "markdown",
   "id": "c78296e8",
   "metadata": {},
   "source": [
    "prompt 模板 需要调整"
   ]
  },
  {
   "cell_type": "code",
   "execution_count": null,
   "id": "40815ca6",
   "metadata": {},
   "outputs": [],
   "source": [
    "# user_prompt = \"\"\"Please briefly summarize the changes made to the code from the following diff:\n",
    "# \"\"\"\n",
    "user_prompt = \"\"\"请简短总结以下的 PR 描述和代码差异，并用数字编号输出差异条目：\n",
    "PR 描述：\n",
    "{desc}\n",
    "代码差异：\n",
    "{diffs}\n",
    "\"\"\""
   ]
  },
  {
   "cell_type": "code",
   "execution_count": null,
   "id": "f627e9bf",
   "metadata": {},
   "outputs": [],
   "source": [
    "from utils import file_io_utils as fiu\n",
    "\n",
    "diffs = fiu.get_remote_contents(url)\n",
    "\n",
    "response = client.models.generate_content(\n",
    "    model=model_name, \n",
    "    contents=[user_prompt.format(desc=f\"{pr.title}\\n{pr.body}\", diffs=diffs)]\n",
    ")"
   ]
  },
  {
   "cell_type": "code",
   "execution_count": null,
   "id": "55fb5b85",
   "metadata": {},
   "outputs": [
    {
     "data": {
      "text/markdown": [
       "此 PR 引入了一个名为 `execute_js` 的通用 JavaScript 执行工具，该工具通过 Chrome DevTools Protocol (CDP) 的 `Runtime.evaluate` 方法执行任意 JavaScript 代码。它旨在解决现有工具无法处理的复杂浏览器交互和数据提取问题，例如坐标点击、批量表单填写、悬停、拖拽、链接抓取和页面探索。\n",
       "\n",
       "代码差异：\n",
       "1.  新增了 `ExecuteCDPAction` Pydantic 模型，其中包含一个 `js_code` 字段用于传递要执行的 JavaScript 代码。\n",
       "2.  在 `browser_use/tools/service.py` 文件中导入了 `ExecuteCDPAction`。\n",
       "3.  在 `service.py` 中注册了一个新的异步操作 `execute_js`。\n",
       "4.  `execute_js` 操作获取一个 CDP 会话，并使用 `cdp_session.cdp_client.send.Runtime.evaluate` 执行提供的 `js_code`。\n",
       "5.  它将 JavaScript 执行结果的 `value` 作为 `extracted_content` 返回，或在执行失败时返回清晰的错误信息。"
      ],
      "text/plain": [
       "<IPython.core.display.Markdown object>"
      ]
     },
     "metadata": {},
     "output_type": "display_data"
    }
   ],
   "source": [
    "from IPython.display import Markdown, display\n",
    "\n",
    "display(Markdown(response.text))"
   ]
  }
 ],
 "metadata": {
  "kernelspec": {
   "display_name": "Python 3",
   "language": "python",
   "name": "python3"
  },
  "language_info": {
   "codemirror_mode": {
    "name": "ipython",
    "version": 3
   },
   "file_extension": ".py",
   "mimetype": "text/x-python",
   "name": "python",
   "nbconvert_exporter": "python",
   "pygments_lexer": "ipython3",
   "version": "3.11.9"
  }
 },
 "nbformat": 4,
 "nbformat_minor": 5
}

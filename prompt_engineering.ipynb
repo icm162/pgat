{
 "cells": [
  {
   "cell_type": "markdown",
   "id": "a2f50c1c",
   "metadata": {},
   "source": [
    "建立 LLM 会话"
   ]
  },
  {
   "cell_type": "code",
   "execution_count": 1,
   "id": "939ae7ef",
   "metadata": {},
   "outputs": [],
   "source": [
    "from google import genai\n",
    "\n",
    "with open(r\".\\api_key\", \"r\", encoding=\"utf8\") as reader: \n",
    "    api_key = reader.readline()\n",
    "client = genai.Client(api_key=api_key)"
   ]
  },
  {
   "cell_type": "markdown",
   "id": "c38882f2",
   "metadata": {},
   "source": [
    "认证 github"
   ]
  },
  {
   "cell_type": "code",
   "execution_count": 2,
   "id": "b4a3d2f6",
   "metadata": {},
   "outputs": [],
   "source": [
    "from github.Repository import Repository, NotSet\n",
    "from github.PullRequest import PullRequest\n",
    "\n",
    "import github\n",
    "\n",
    "with open(r\".\\github_token\", \"r\", encoding=\"utf8\") as reader:\n",
    "    access_token = reader.readline()\n",
    "\n",
    "auth = github.Auth.Token(access_token)"
   ]
  },
  {
   "cell_type": "markdown",
   "id": "1b6b4584",
   "metadata": {},
   "source": [
    "筛选 PR"
   ]
  },
  {
   "cell_type": "code",
   "execution_count": 3,
   "id": "3f3efaa3",
   "metadata": {},
   "outputs": [],
   "source": [
    "from typing import Literal, List\n",
    "\n",
    "## https://github.com/{browser-use/browser-use}/pull/xxx.diff\n",
    "\n",
    "def filtre(\n",
    "        repo:Repository,\n",
    "        pr_state:Literal[\"open\", \"close\", \"all\"]=NotSet, # pr 状态\n",
    "        sort:Literal[\"created\", \"updated\", \"pushed\", \"popularity\"]=NotSet, # 结果排序方式\n",
    "        direction:Literal[\"asc\", \"desc\"]=NotSet, # 结果顺序\n",
    "        base:str=NotSet, # 目标分支\n",
    "        head:str=NotSet, # 来源分支/来源用户\n",
    "        prid:int=None, # 指定 pr 编号\n",
    "        author:str=None, # 指定 pr 发起人\n",
    "    ) -> List[PullRequest]:\n",
    "    results = repo.get_pulls(pr_state, sort, direction, base, head)\n",
    "    if prid: results = [pr for pr in results if pr.number == prid]\n",
    "    if author: results = [pr for pr in results if pr.user.login == author]\n",
    "    return results"
   ]
  },
  {
   "cell_type": "code",
   "execution_count": 4,
   "id": "751c978f",
   "metadata": {},
   "outputs": [],
   "source": [
    "repository = \"browser-use/browser-use\"\n",
    "\n",
    "with github.Github(auth=auth) as g:\n",
    "    repo = g.get_repo(repository)\n",
    "    filtered = filtre(repo, \"open\", author=\"mkuts12\")\n",
    "    if not filtered: raise ValueError(\"No matching PR found\")\n",
    "    pr = filtered[0]; url = pr.diff_url"
   ]
  },
  {
   "cell_type": "code",
   "execution_count": 5,
   "id": "40815ca6",
   "metadata": {},
   "outputs": [],
   "source": [
    "# user_prompt = \"\"\"Please briefly summarize the changes made to the code from the following diff:\n",
    "# \"\"\"\n",
    "user_prompt = \"\"\"请简短总结以下的 PR 描述和代码差异，并用数字编号输出差异条目：\n",
    "PR 描述：\n",
    "{desc}\n",
    "代码差异：\n",
    "{diffs}\n",
    "\"\"\""
   ]
  },
  {
   "cell_type": "code",
   "execution_count": 6,
   "id": "f627e9bf",
   "metadata": {},
   "outputs": [],
   "source": [
    "from utils import file_io_utils as fiu\n",
    "\n",
    "diffs = fiu.get_remote_contents(url)\n",
    "\n",
    "response = client.models.generate_content(\n",
    "    model=\"gemini-2.5-flash\", \n",
    "    contents=[user_prompt.format(desc=f\"{pr.title}\\n{pr.body}\", diffs=diffs)]\n",
    ")"
   ]
  },
  {
   "cell_type": "code",
   "execution_count": 9,
   "id": "55fb5b85",
   "metadata": {},
   "outputs": [
    {
     "data": {
      "text/markdown": [
       "这个 PR 旨在优化点击操作的重试机制，以避免在页面加载超时导致元素消失后，尝试点击不存在元素时仍会失败的问题。之前，如果 `element_handle.click()` 失败（例如，由于页面加载超时），一个通用的 `except` 块会无条件地尝试通过 `page.evaluate()` 进行重试，但这可能在元素确实不存在或页面上下文被销毁时再次失败。\n",
       "\n",
       "本次变更确保只有当直接的点击操作失败时，才尝试通过 `page.evaluate()` 进行重试，从而更精确地处理点击失败的场景。它不会解决所有情况，特别是当元素被点击但页面已导航导致执行上下文被销毁时。\n",
       "\n",
       "**代码差异：**\n",
       "\n",
       "1.  删除了原始的、包裹了 `page.evaluate` 重试逻辑的外部 `except Exception` 块。\n",
       "2.  引入了一个名为 `_click` 的内部异步辅助函数，封装了点击逻辑。\n",
       "3.  将使用 `page.evaluate('(el) => el.click()', element_handle)` 的重试逻辑移动到 `_click` 函数内部，具体是在捕获 `element_handle.click(timeout=1500)` 失败的 `except Exception` 块中。这确保了 `page.evaluate` 仅在直接点击失败时才被调用。\n",
       "4.  最外层的 `perform_click` 现在调用这个新的 `_click` 辅助函数。\n",
       "5.  简化了外部的 `except Exception` 块，它现在主要捕获从 `_click` 辅助函数或其 `perform_click` 包装器中传播的任何异常。"
      ],
      "text/plain": [
       "<IPython.core.display.Markdown object>"
      ]
     },
     "metadata": {},
     "output_type": "display_data"
    }
   ],
   "source": [
    "from IPython.display import Markdown, display\n",
    "\n",
    "display(Markdown(response.text))"
   ]
  }
 ],
 "metadata": {
  "kernelspec": {
   "display_name": "Python 3",
   "language": "python",
   "name": "python3"
  },
  "language_info": {
   "codemirror_mode": {
    "name": "ipython",
    "version": 3
   },
   "file_extension": ".py",
   "mimetype": "text/x-python",
   "name": "python",
   "nbconvert_exporter": "python",
   "pygments_lexer": "ipython3",
   "version": "3.11.9"
  }
 },
 "nbformat": 4,
 "nbformat_minor": 5
}

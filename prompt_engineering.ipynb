{
 "cells": [
  {
   "cell_type": "markdown",
   "id": "53391590",
   "metadata": {},
   "source": [
    "SSL 证书导入"
   ]
  },
  {
   "cell_type": "code",
   "execution_count": 1,
   "id": "459e844a",
   "metadata": {},
   "outputs": [],
   "source": [
    "import pip_system_certs.wrapt_requests"
   ]
  },
  {
   "cell_type": "markdown",
   "id": "a2f50c1c",
   "metadata": {},
   "source": [
    "建立 LLM 会话  \n",
    "在报告页找免费 api_key 需要根据模型来源初始化会话"
   ]
  },
  {
   "cell_type": "code",
   "execution_count": 2,
   "id": "939ae7ef",
   "metadata": {},
   "outputs": [
    {
     "name": "stdout",
     "output_type": "stream",
     "text": [
      "可选模型 (选一个填到 model_name):\n",
      "gemini-2.5-flash\n",
      "deepseek/deepseek-r1-0528-qwen3-8b:free\n",
      "x-ai/grok-code-fast-1\n",
      "anthropic/claude-3.5-haiku\n"
     ]
    }
   ],
   "source": [
    "import json\n",
    "with open(r\".\\model_mapper.json\", \"r\", encoding=\"utf8\") as reader:\n",
    "    model_map = json.load(reader)\n",
    "    model_avails = {mn:k for k in model_map.keys() for mn in model_map[k][\"model_list\"]}\n",
    "\n",
    "print(\"可选模型 (选一个填到 model_name):\")\n",
    "for mak in model_avails.keys(): print(mak)"
   ]
  },
  {
   "cell_type": "code",
   "execution_count": null,
   "id": "dd18db98",
   "metadata": {},
   "outputs": [],
   "source": [
    "# 根据 json 中记录的可用模型修改\n",
    "model_name = \"gemini-2.5-flash\""
   ]
  },
  {
   "cell_type": "code",
   "execution_count": 4,
   "id": "0811f0e7",
   "metadata": {},
   "outputs": [],
   "source": [
    "assert model_name in model_avails, \"check model_name\"\n",
    "frame = model_avails[model_name]\n",
    "params = {k: v for k, v in model_map[frame].items() if k not in [\"model_list\"]}\n",
    "\n",
    "if frame == \"google\":\n",
    "    from google import genai\n",
    "    client = genai.Client(**params)\n",
    "elif frame == \"openrouter\":\n",
    "    from openai import OpenAI\n",
    "    client = OpenAI(**params)\n",
    "else: raise NotImplementedError"
   ]
  },
  {
   "cell_type": "markdown",
   "id": "73efd059",
   "metadata": {},
   "source": [
    "认证 github token"
   ]
  },
  {
   "cell_type": "code",
   "execution_count": 5,
   "id": "b4a3d2f6",
   "metadata": {},
   "outputs": [],
   "source": [
    "from github.Repository import Repository, NotSet\n",
    "from github.PullRequest import PullRequest\n",
    "\n",
    "import github\n",
    "\n",
    "with open(r\".\\github_token\", \"r\", encoding=\"utf8\") as reader:\n",
    "    access_token = reader.readline()\n",
    "\n",
    "auth = github.Auth.Token(access_token)"
   ]
  },
  {
   "cell_type": "markdown",
   "id": "1b6b4584",
   "metadata": {},
   "source": [
    "筛选 PR"
   ]
  },
  {
   "cell_type": "code",
   "execution_count": 6,
   "id": "3f3efaa3",
   "metadata": {},
   "outputs": [],
   "source": [
    "from typing import Literal, List\n",
    "\n",
    "def filtre(\n",
    "        repo:Repository,\n",
    "        pr_state:Literal[\"open\", \"close\", \"all\"]=NotSet, # pr 状态\n",
    "        sort:Literal[\"created\", \"updated\", \"pushed\", \"popularity\"]=NotSet, # 结果排序方式\n",
    "        direction:Literal[\"asc\", \"desc\"]=NotSet, # 结果顺序\n",
    "        base:str=NotSet, # 目标分支\n",
    "        head:str=NotSet, # 来源分支/来源用户\n",
    "        prid:int=None, # 指定 pr 编号\n",
    "        author:str=None, # 指定 pr 发起人\n",
    "        day_back:int=None, # 回溯指定天数内\n",
    "    ) -> List[PullRequest]:\n",
    "    results = repo.get_pulls(pr_state, sort, direction, base, head)\n",
    "    if prid: results = [pr for pr in results if pr.number == prid]\n",
    "    if author: results = [pr for pr in results if pr.user.login == author]\n",
    "    if day_back:\n",
    "        # datetime 范围内\n",
    "        from datetime import datetime, timedelta, timezone\n",
    "        now = datetime.now().replace(tzinfo=timezone.utc)\n",
    "        start_from = now - timedelta(days=day_back) \n",
    "        results = [pr for pr in results if pr.created_at >= start_from]\n",
    "    return results"
   ]
  },
  {
   "cell_type": "code",
   "execution_count": null,
   "id": "751c978f",
   "metadata": {},
   "outputs": [],
   "source": [
    "## https://github.com/{browser-use/browser-use}/pull/xxx.diff\n",
    "repository = \"browser-use/browser-use\"\n",
    "\n",
    "with github.Github(auth=auth) as g:\n",
    "    repo = g.get_repo(repository)\n",
    "    prs = filtre(repo, \"open\", day_back=2) ## 假设在内部，则用 author + day_back 可以查到指定用户的 PR，这里随便选了一些。。\n",
    "    if not prs: raise ValueError(\"No matching PR found\")"
   ]
  },
  {
   "cell_type": "markdown",
   "id": "c78296e8",
   "metadata": {},
   "source": [
    "prompt 模板 需要调整"
   ]
  },
  {
   "cell_type": "code",
   "execution_count": 8,
   "id": "40815ca6",
   "metadata": {},
   "outputs": [],
   "source": [
    "# user_prompt = \"\"\"Please briefly summarize the changes made to the code from the following diff:\n",
    "# \"\"\"\n",
    "user_prompt = \"\"\"请简短总结以下的 PR 描述和代码差异，并用数字编号输出差异条目：\n",
    "PR 描述：\n",
    "{desc}\n",
    "代码差异：\n",
    "{diffs}\n",
    "\"\"\""
   ]
  },
  {
   "cell_type": "code",
   "execution_count": 9,
   "id": "f627e9bf",
   "metadata": {},
   "outputs": [
    {
     "data": {
      "application/vnd.jupyter.widget-view+json": {
       "model_id": "1058593bc0af441382f69e2e5e801a3d",
       "version_major": 2,
       "version_minor": 0
      },
      "text/plain": [
       "  0%|          | 0/5 [00:00<?, ?it/s]"
      ]
     },
     "metadata": {},
     "output_type": "display_data"
    }
   ],
   "source": [
    "from utils import file_io_utils as fiu\n",
    "from tqdm.notebook import tqdm\n",
    "\n",
    "def get_llm_resp(query:str):\n",
    "    if frame == \"google\":\n",
    "        return client.models.generate_content(\n",
    "            model=model_name,\n",
    "            contents=[query]\n",
    "        ).text\n",
    "    elif frame == \"openrouter\":\n",
    "        \n",
    "        return client.chat.completions.create(\n",
    "            model=model_name,\n",
    "            messages=[{\"role\": \"user\", \"content\": query}],\n",
    "            max_tokens=500\n",
    "        ).choices[0].message.content\n",
    "    else: raise NotImplementedError\n",
    "\n",
    "def get_llm_diff_resp(pr):\n",
    "    diffs = fiu.get_remote_contents(pr.diff_url)\n",
    "    return get_llm_resp(user_prompt.format(desc=f\"{pr.title}\\n{pr.body}\", diffs=diffs))\n",
    "    \n",
    "responses = [get_llm_diff_resp(pr) for pr in tqdm(prs)]"
   ]
  },
  {
   "cell_type": "markdown",
   "id": "a9e2b3a3",
   "metadata": {},
   "source": [
    "汇总成简报"
   ]
  },
  {
   "cell_type": "code",
   "execution_count": 10,
   "id": "245056da",
   "metadata": {},
   "outputs": [],
   "source": [
    "summary_prompt = \"\"\"请根据以下代码差异描述，总结出一份简报，要求根据日期排序：\"\"\"\n",
    "for i, resp in enumerate(responses[::-1]): # 从旧到新\n",
    "    summary_prompt += f\"\\n\\n{prs[::-1][i].created_at}:\\n\\n{resp}\\n\""
   ]
  },
  {
   "cell_type": "code",
   "execution_count": 11,
   "id": "3bbc555e",
   "metadata": {},
   "outputs": [],
   "source": [
    "response = get_llm_resp(summary_prompt)"
   ]
  },
  {
   "cell_type": "code",
   "execution_count": 12,
   "id": "55fb5b85",
   "metadata": {},
   "outputs": [
    {
     "data": {
      "text/markdown": [
       "好的，这是一份根据您提供的代码差异描述整理的简报，已按日期排序：\n",
       "\n",
       "---\n",
       "\n",
       "**代码差异简报**\n",
       "\n",
       "以下是根据提供的代码差异描述整理的简报，按日期排序。\n",
       "\n",
       "### 2025-09-11\n",
       "\n",
       "*   **09:35:41+00:00：【新功能】引入 CaptchaWatchdog 机制，提升代理处理验证码的可靠性。**\n",
       "    *   此更新通过在验证码识别期间暂停代理并在识别完成后恢复代理，显著提高了代理在受验证码保护网站上的稳定性。\n",
       "    *   主要修改包括：在代理执行循环中添加验证码暂停状态检查；在 `Session` 类中增加 `agent_paused_for_captcha` 状态和 `_captcha_watchdog` 实例；新增 `CaptchaWatchdog` 文件，监听 `BrowserUse.captchaSolverStarted` 和 `BrowserUse.captchaSolverFinished` 事件以控制代理暂停/恢复；并更新了 `pyproject.toml`。\n",
       "\n",
       "*   **15:35:38+00:00：【缺陷修复】修正 `on_ScrollToTextEvent` 中的 `UnboundLocalError`，确保 `js_result` 始终初始化，并改进文本查找逻辑。**\n",
       "    *   解决了 `on_ScrollToTextEvent` 函数中 `js_result` 未初始化导致的 `UnboundLocalError`。\n",
       "    *   修复措施包括：在函数开始时将 `js_result` 初始化为 `None`，并重构了文本查找成功后的判断和错误处理逻辑，以正确处理 XPath 查找和 JavaScript 回退两种情况，避免不必要的错误抛出。\n",
       "\n",
       "*   **20:01:42+00:00：【新功能】新增 `hover_element` 操作，使代理能够悬停在元素上，增强现代 Web 应用的自动化能力。**\n",
       "    *   引入了 `hover_element` 操作，允许代理通过元素索引进行悬停，从而触发工具提示、下拉菜单和浮层等交互。\n",
       "    *   该功能利用 Chrome DevTools Protocol (CDP) 精确移动鼠标，并返回悬停坐标用于调试。主要涉及新增 `HoverElementAction` 模型、`HoverElementEvent` 事件、`hover_element` 公共动作注册以及 `on_HoverElementEvent` 异步事件处理器。\n",
       "\n",
       "*   **21:47:53+00:00：【集成】为 Mistral 模型添加了一等支持，引入 `ChatMistral` 提供者，并优化了其参数兼容性与结构化输出处理。**\n",
       "    *   新增 `ChatMistral` 提供者，继承自 `ChatOpenAI`，为 Mistral 模型提供了原生支持。\n",
       "    *   `ChatMistral` 默认配置 Mistral 模型和基 URL，从 `MISTRAL_API_KEY` 获取密钥，并解决了 `max_completion_tokens` 到 `max_tokens` 的参数兼容性问题。同时，改进了结构化输出处理，包括客户端验证和对列表包裹 JSON 响应的容错处理。\n",
       "    *   更新了文档并增加了可运行示例。\n",
       "\n",
       "### 2025-09-12\n",
       "\n",
       "*   **03:17:13+00:00：【文档更新】更新 `news-use` 示例的 README 文件，改进设置说明并强调版本要求。**\n",
       "    *   此更新将 `browser-use v0.7.7+` 的版本要求提示从“CAUTION”更改为更重要的“IMPORTANT”。\n",
       "    *   同时，在 `news-use` 示例的 README 中添加了克隆仓库和切换到应用文件夹的 `git clone` 和 `cd` 指令，以提升用户设置体验。\n",
       "\n",
       "---"
      ],
      "text/plain": [
       "<IPython.core.display.Markdown object>"
      ]
     },
     "metadata": {},
     "output_type": "display_data"
    }
   ],
   "source": [
    "from IPython.display import Markdown, display\n",
    "display(Markdown(response))"
   ]
  },
  {
   "cell_type": "markdown",
   "id": "6f44b894",
   "metadata": {},
   "source": [
    "对自己的 pr 添加评论 模拟发布汇报"
   ]
  },
  {
   "cell_type": "code",
   "execution_count": null,
   "id": "45dc67f4",
   "metadata": {},
   "outputs": [],
   "source": [
    "with github.Github(auth=auth) as g:\n",
    "    repo = g.get_repo(\"icm162/pgat\") # 测试远程仓库 \n",
    "    pr = repo.get_pull(1) # 第一个 PR\n",
    "    pr.create_issue_comment(response) # 创建评论 网页支持 markdown"
   ]
  }
 ],
 "metadata": {
  "kernelspec": {
   "display_name": "Python 3",
   "language": "python",
   "name": "python3"
  },
  "language_info": {
   "codemirror_mode": {
    "name": "ipython",
    "version": 3
   },
   "file_extension": ".py",
   "mimetype": "text/x-python",
   "name": "python",
   "nbconvert_exporter": "python",
   "pygments_lexer": "ipython3",
   "version": "3.11.9"
  }
 },
 "nbformat": 4,
 "nbformat_minor": 5
}

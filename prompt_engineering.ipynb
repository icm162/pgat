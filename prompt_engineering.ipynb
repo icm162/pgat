{
 "cells": [
  {
   "cell_type": "markdown",
   "id": "53391590",
   "metadata": {},
   "source": [
    "SSL 证书导入"
   ]
  },
  {
   "cell_type": "code",
   "execution_count": 1,
   "id": "459e844a",
   "metadata": {},
   "outputs": [],
   "source": [
    "import pip_system_certs.wrapt_requests"
   ]
  },
  {
   "cell_type": "markdown",
   "id": "a2f50c1c",
   "metadata": {},
   "source": [
    "建立 LLM 会话  \n",
    "在报告页找免费 api_key 需要根据模型来源初始化会话"
   ]
  },
  {
   "cell_type": "code",
   "execution_count": 2,
   "id": "939ae7ef",
   "metadata": {},
   "outputs": [],
   "source": [
    "from google import genai\n",
    "\n",
    "with open(r\".\\api_key\", \"r\", encoding=\"utf8\") as reader: \n",
    "    api_key = reader.readline()\n",
    "client = genai.Client(api_key=api_key)\n",
    "\n",
    "model_name = \"gemini-2.5-flash\""
   ]
  },
  {
   "cell_type": "markdown",
   "id": "c38882f2",
   "metadata": {},
   "source": [
    "认证 github"
   ]
  },
  {
   "cell_type": "code",
   "execution_count": 3,
   "id": "b4a3d2f6",
   "metadata": {},
   "outputs": [],
   "source": [
    "from github.Repository import Repository, NotSet\n",
    "from github.PullRequest import PullRequest\n",
    "\n",
    "import github\n",
    "\n",
    "with open(r\".\\github_token\", \"r\", encoding=\"utf8\") as reader:\n",
    "    access_token = reader.readline()\n",
    "\n",
    "auth = github.Auth.Token(access_token)"
   ]
  },
  {
   "cell_type": "markdown",
   "id": "1b6b4584",
   "metadata": {},
   "source": [
    "筛选 PR"
   ]
  },
  {
   "cell_type": "code",
   "execution_count": 4,
   "id": "3f3efaa3",
   "metadata": {},
   "outputs": [],
   "source": [
    "from typing import Literal, List\n",
    "\n",
    "def filtre(\n",
    "        repo:Repository,\n",
    "        pr_state:Literal[\"open\", \"close\", \"all\"]=NotSet, # pr 状态\n",
    "        sort:Literal[\"created\", \"updated\", \"pushed\", \"popularity\"]=NotSet, # 结果排序方式\n",
    "        direction:Literal[\"asc\", \"desc\"]=NotSet, # 结果顺序\n",
    "        base:str=NotSet, # 目标分支\n",
    "        head:str=NotSet, # 来源分支/来源用户\n",
    "        prid:int=None, # 指定 pr 编号\n",
    "        author:str=None, # 指定 pr 发起人\n",
    "        day_back:int=None, # 回溯指定天数内\n",
    "    ) -> List[PullRequest]:\n",
    "    results = repo.get_pulls(pr_state, sort, direction, base, head)\n",
    "    if prid: results = [pr for pr in results if pr.number == prid]\n",
    "    if author: results = [pr for pr in results if pr.user.login == author]\n",
    "    if day_back:\n",
    "        # datetime 范围内\n",
    "        from datetime import datetime, timedelta, timezone\n",
    "        now = datetime.now().replace(tzinfo=timezone.utc)\n",
    "        start_from = now - timedelta(days=day_back) \n",
    "        results = [pr for pr in results if pr.created_at >= start_from]\n",
    "    return results"
   ]
  },
  {
   "cell_type": "code",
   "execution_count": 5,
   "id": "751c978f",
   "metadata": {},
   "outputs": [],
   "source": [
    "## https://github.com/{browser-use/browser-use}/pull/xxx.diff\n",
    "repository = \"browser-use/browser-use\"\n",
    "\n",
    "with github.Github(auth=auth) as g:\n",
    "    repo = g.get_repo(repository)\n",
    "    prs = filtre(repo, \"open\", day_back=2) ## 假设在内部，则用 author + day_back 可以查到指定用户的 PR 这里随便选一些。。\n",
    "    if not prs: raise ValueError(\"No matching PR found\")"
   ]
  },
  {
   "cell_type": "markdown",
   "id": "c78296e8",
   "metadata": {},
   "source": [
    "prompt 模板 需要调整"
   ]
  },
  {
   "cell_type": "code",
   "execution_count": 6,
   "id": "40815ca6",
   "metadata": {},
   "outputs": [],
   "source": [
    "# user_prompt = \"\"\"Please briefly summarize the changes made to the code from the following diff:\n",
    "# \"\"\"\n",
    "user_prompt = \"\"\"请简短总结以下的 PR 描述和代码差异，并用数字编号输出差异条目：\n",
    "PR 描述：\n",
    "{desc}\n",
    "代码差异：\n",
    "{diffs}\n",
    "\"\"\""
   ]
  },
  {
   "cell_type": "code",
   "execution_count": 7,
   "id": "f627e9bf",
   "metadata": {},
   "outputs": [
    {
     "data": {
      "application/vnd.jupyter.widget-view+json": {
       "model_id": "a5df4dbb3ead48ea94f83c860ba06123",
       "version_major": 2,
       "version_minor": 0
      },
      "text/plain": [
       "  0%|          | 0/5 [00:00<?, ?it/s]"
      ]
     },
     "metadata": {},
     "output_type": "display_data"
    }
   ],
   "source": [
    "from utils import file_io_utils as fiu\n",
    "from tqdm.notebook import tqdm\n",
    "\n",
    "def get_llm_resp(query:str):\n",
    "    return client.models.generate_content(\n",
    "        model=model_name,\n",
    "        contents=[query]\n",
    "    )\n",
    "\n",
    "def get_llm_diff_resp(pr):\n",
    "    diffs = fiu.get_remote_contents(pr.diff_url)\n",
    "    return get_llm_resp(user_prompt.format(desc=f\"{pr.title}\\n{pr.body}\", diffs=diffs))\n",
    "    \n",
    "responses = [get_llm_diff_resp(pr) for pr in tqdm(prs)]"
   ]
  },
  {
   "cell_type": "code",
   "execution_count": 8,
   "id": "245056da",
   "metadata": {},
   "outputs": [],
   "source": [
    "summary_prompt = \"\"\"请根据以下代码差异描述，总结出一份简报，要求根据日期排序：\"\"\"\n",
    "for i, resp in enumerate(responses[::-1]): # 从旧到新\n",
    "    summary_prompt += f\"\\n\\n{prs[::-1][i].created_at}:\\n\\n{resp.text}\\n\""
   ]
  },
  {
   "cell_type": "code",
   "execution_count": 9,
   "id": "3bbc555e",
   "metadata": {},
   "outputs": [],
   "source": [
    "response = get_llm_resp(summary_prompt)"
   ]
  },
  {
   "cell_type": "code",
   "execution_count": 10,
   "id": "55fb5b85",
   "metadata": {},
   "outputs": [
    {
     "data": {
      "text/markdown": [
       "好的，根据您提供的代码差异描述，以下是按日期排序的简报：\n",
       "\n",
       "---\n",
       "\n",
       "**简报：近期代码更新摘要**\n",
       "\n",
       "**日期：2025年9月10日**\n",
       "\n",
       "*   **通用JavaScript执行工具上线 (04:50:59):**\n",
       "    *   **内容:** 引入了基于 CDP `Runtime.evaluate` 的通用 JavaScript 执行工具。\n",
       "    *   **目的:** 旨在解决现有工具难以处理的复杂浏览器交互和数据提取问题，支持坐标点击、表单填充、悬停、拖拽、链接抓取和页面探索等功能。\n",
       "    *   **影响:** 新增 `ExecuteCDPAction` 模型和 `execute_js` 异步动作，增强了浏览器自动化能力。\n",
       "\n",
       "*   **`ad-use` README 文档更新 (18:51:55):**\n",
       "    *   **内容:** 更新了 `ad-use` 项目的 `README.md` 文件。\n",
       "    *   **目的:** 提高文档清晰度和准确性，并移除过时信息，包括更新警告样式、示例URL（从 `iphone-16-pro` 到 `iphone-17-pro`）及移除旧页脚。\n",
       "\n",
       "*   **README Python 示例导入顺序统一 (22:05:07):**\n",
       "    *   **内容:** 统一了 README Python 示例中的导入顺序。\n",
       "    *   **目的:** 通过对导入进行分组并将 `load_dotenv()` 移至导入语句下方，提高代码清晰度和一致性，遵循最佳实践。\n",
       "\n",
       "**日期：2025年9月11日**\n",
       "\n",
       "*   **`news-use` 示例文档链接修复 (05:21:52):**\n",
       "    *   **内容:** 修复了 `news-use` 示例的文档链接缺失问题。\n",
       "    *   **目的:** 确保该示例能在“Examples > Apps”分类下显示并可通过侧边栏访问，提升用户体验。\n",
       "\n",
       "*   **引入验证码看门狗 (CaptchaWatchdog) 支持 (09:35:41):**\n",
       "    *   **内容:** 新增了验证码看门狗功能。\n",
       "    *   **目的:** 在验证码求解器启动时自动暂停代理，完成后恢复代理，显著提高在受验证码保护网站上的操作可靠性。\n",
       "    *   **影响:** 修改了代理执行循环、会话状态管理，并新增 `CaptchaWatchdog` 模块，监听 CDP 事件以控制代理的暂停与恢复。\n",
       "\n",
       "---"
      ],
      "text/plain": [
       "<IPython.core.display.Markdown object>"
      ]
     },
     "metadata": {},
     "output_type": "display_data"
    }
   ],
   "source": [
    "from IPython.display import Markdown, display\n",
    "\n",
    "display(Markdown(response.text))"
   ]
  }
 ],
 "metadata": {
  "kernelspec": {
   "display_name": "Python 3",
   "language": "python",
   "name": "python3"
  },
  "language_info": {
   "codemirror_mode": {
    "name": "ipython",
    "version": 3
   },
   "file_extension": ".py",
   "mimetype": "text/x-python",
   "name": "python",
   "nbconvert_exporter": "python",
   "pygments_lexer": "ipython3",
   "version": "3.11.9"
  }
 },
 "nbformat": 4,
 "nbformat_minor": 5
}

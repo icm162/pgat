{
 "cells": [
  {
   "cell_type": "markdown",
   "id": "53391590",
   "metadata": {},
   "source": [
    "SSL 证书导入"
   ]
  },
  {
   "cell_type": "code",
   "execution_count": null,
   "id": "459e844a",
   "metadata": {},
   "outputs": [],
   "source": [
    "import pip_system_certs.wrapt_requests"
   ]
  },
  {
   "cell_type": "markdown",
   "id": "a2f50c1c",
   "metadata": {},
   "source": [
    "建立 LLM 会话  \n",
    "在报告页找免费 api_key 需要根据模型来源初始化会话"
   ]
  },
  {
   "cell_type": "code",
   "execution_count": null,
   "id": "939ae7ef",
   "metadata": {},
   "outputs": [],
   "source": [
    "import json\n",
    "with open(r\".\\model_map.json\", \"r\", encoding=\"utf8\") as reader:\n",
    "    model_map = json.load(reader)\n",
    "    model_avails = {mn:k for k in model_map.keys() for mn in model_map[k][\"model_list\"]}\n",
    "\n",
    "print(\"可选模型 (选一个填到 model_name):\")\n",
    "for mak in model_avails.keys(): print(mak)"
   ]
  },
  {
   "cell_type": "code",
   "execution_count": null,
   "id": "dd18db98",
   "metadata": {},
   "outputs": [],
   "source": [
    "model_name = \"gemini-2.5-flash\""
   ]
  },
  {
   "cell_type": "code",
   "execution_count": null,
   "id": "0811f0e7",
   "metadata": {},
   "outputs": [],
   "source": [
    "assert model_name in model_avails, \"check model_name\"\n",
    "frame = model_avails[model_name]\n",
    "params = {k: v for k, v in model_map[frame].items() if k not in [\"model_list\"]}\n",
    "\n",
    "if frame == \"google\":\n",
    "    from google import genai\n",
    "    client = genai.Client(**params)\n",
    "elif frame == \"openrouter\":\n",
    "    from openai import OpenAI\n",
    "    client = OpenAI(**params)\n",
    "else: raise NotImplementedError"
   ]
  },
  {
   "cell_type": "markdown",
   "id": "73efd059",
   "metadata": {},
   "source": [
    "认证 github token"
   ]
  },
  {
   "cell_type": "code",
   "execution_count": null,
   "id": "b4a3d2f6",
   "metadata": {},
   "outputs": [],
   "source": [
    "from github.Repository import Repository, NotSet\n",
    "from github.PullRequest import PullRequest\n",
    "\n",
    "import github\n",
    "\n",
    "with open(r\".\\github_token\", \"r\", encoding=\"utf8\") as reader:\n",
    "    access_token = reader.readline()\n",
    "\n",
    "auth = github.Auth.Token(access_token)"
   ]
  },
  {
   "cell_type": "markdown",
   "id": "1b6b4584",
   "metadata": {},
   "source": [
    "筛选 PR"
   ]
  },
  {
   "cell_type": "code",
   "execution_count": null,
   "id": "3f3efaa3",
   "metadata": {},
   "outputs": [],
   "source": [
    "from typing import Literal, List\n",
    "\n",
    "def filtre(\n",
    "        repo:Repository,\n",
    "        pr_state:Literal[\"open\", \"close\", \"all\"]=NotSet, # pr 状态\n",
    "        sort:Literal[\"created\", \"updated\", \"pushed\", \"popularity\"]=NotSet, # 结果排序方式\n",
    "        direction:Literal[\"asc\", \"desc\"]=NotSet, # 结果顺序\n",
    "        base:str=NotSet, # 目标分支\n",
    "        head:str=NotSet, # 来源分支/来源用户\n",
    "        prid:int=None, # 指定 pr 编号\n",
    "        author:str=None, # 指定 pr 发起人\n",
    "        day_back:int=None, # 回溯指定天数内\n",
    "    ) -> List[PullRequest]:\n",
    "    results = repo.get_pulls(pr_state, sort, direction, base, head)\n",
    "    if prid: results = [pr for pr in results if pr.number == prid]\n",
    "    if author: results = [pr for pr in results if pr.user.login == author]\n",
    "    if day_back:\n",
    "        # datetime 范围内\n",
    "        from datetime import datetime, timedelta, timezone\n",
    "        now = datetime.now().replace(tzinfo=timezone.utc)\n",
    "        start_from = now - timedelta(days=day_back) \n",
    "        results = [pr for pr in results if pr.created_at >= start_from]\n",
    "    return results"
   ]
  },
  {
   "cell_type": "code",
   "execution_count": null,
   "id": "751c978f",
   "metadata": {},
   "outputs": [],
   "source": [
    "## https://github.com/{browser-use/browser-use}/pull/xxx.diff\n",
    "repository = \"browser-use/browser-use\"\n",
    "\n",
    "with github.Github(auth=auth) as g:\n",
    "    repo = g.get_repo(repository)\n",
    "    prs = filtre(repo, \"open\", day_back=2) ## 假设在内部，则用 author + day_back 可以查到指定用户的 PR 这里随便选一些。。\n",
    "    if not prs: raise ValueError(\"No matching PR found\")"
   ]
  },
  {
   "cell_type": "markdown",
   "id": "c78296e8",
   "metadata": {},
   "source": [
    "prompt 模板 需要调整"
   ]
  },
  {
   "cell_type": "code",
   "execution_count": null,
   "id": "40815ca6",
   "metadata": {},
   "outputs": [],
   "source": [
    "# user_prompt = \"\"\"Please briefly summarize the changes made to the code from the following diff:\n",
    "# \"\"\"\n",
    "user_prompt = \"\"\"请简短总结以下的 PR 描述和代码差异，并用数字编号输出差异条目：\n",
    "PR 描述：\n",
    "{desc}\n",
    "代码差异：\n",
    "{diffs}\n",
    "\"\"\""
   ]
  },
  {
   "cell_type": "code",
   "execution_count": null,
   "id": "f627e9bf",
   "metadata": {},
   "outputs": [],
   "source": [
    "from utils import file_io_utils as fiu\n",
    "from tqdm.notebook import tqdm\n",
    "\n",
    "def get_llm_resp(query:str):\n",
    "    if frame == \"google\":\n",
    "        return client.models.generate_content(\n",
    "            model=model_name,\n",
    "            contents=[query]\n",
    "        ).text\n",
    "    elif frame == \"openrouter\":\n",
    "        \n",
    "        return client.chat.completions.create(\n",
    "            model=model_name,\n",
    "            messages=[{\"role\": \"user\", \"content\": query}],\n",
    "            max_tokens=500\n",
    "        ).choices[0].message.content\n",
    "    else: raise NotImplementedError\n",
    "\n",
    "def get_llm_diff_resp(pr):\n",
    "    diffs = fiu.get_remote_contents(pr.diff_url)\n",
    "    return get_llm_resp(user_prompt.format(desc=f\"{pr.title}\\n{pr.body}\", diffs=diffs))\n",
    "    \n",
    "responses = [get_llm_diff_resp(pr) for pr in tqdm(prs)]"
   ]
  },
  {
   "cell_type": "markdown",
   "id": "a9e2b3a3",
   "metadata": {},
   "source": [
    "汇总成简报"
   ]
  },
  {
   "cell_type": "code",
   "execution_count": null,
   "id": "245056da",
   "metadata": {},
   "outputs": [],
   "source": [
    "summary_prompt = \"\"\"请根据以下代码差异描述，总结出一份简报，要求根据日期排序：\"\"\"\n",
    "for i, resp in enumerate(responses[::-1]): # 从旧到新\n",
    "    summary_prompt += f\"\\n\\n{prs[::-1][i].created_at}:\\n\\n{resp}\\n\""
   ]
  },
  {
   "cell_type": "code",
   "execution_count": null,
   "id": "3bbc555e",
   "metadata": {},
   "outputs": [],
   "source": [
    "response = get_llm_resp(summary_prompt)"
   ]
  },
  {
   "cell_type": "code",
   "execution_count": null,
   "id": "55fb5b85",
   "metadata": {},
   "outputs": [],
   "source": [
    "from IPython.display import Markdown, display\n",
    "display(Markdown(response))"
   ]
  },
  {
   "cell_type": "markdown",
   "id": "6f44b894",
   "metadata": {},
   "source": [
    "对自己的 pr 添加评论 模拟发布汇报"
   ]
  },
  {
   "cell_type": "code",
   "execution_count": null,
   "id": "45dc67f4",
   "metadata": {},
   "outputs": [],
   "source": [
    "with github.Github(auth=auth) as g:\n",
    "    repo = g.get_repo(\"icm162/pgat\")\n",
    "    pr = repo.get_pull(1)\n",
    "    pr.create_issue_comment(response)"
   ]
  }
 ],
 "metadata": {
  "kernelspec": {
   "display_name": "Python 3",
   "language": "python",
   "name": "python3"
  },
  "language_info": {
   "codemirror_mode": {
    "name": "ipython",
    "version": 3
   },
   "file_extension": ".py",
   "mimetype": "text/x-python",
   "name": "python",
   "nbconvert_exporter": "python",
   "pygments_lexer": "ipython3",
   "version": "3.11.9"
  }
 },
 "nbformat": 4,
 "nbformat_minor": 5
}
